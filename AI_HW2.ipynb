{
  "cells": [
    {
      "cell_type": "markdown",
      "metadata": {
        "id": "view-in-github",
        "colab_type": "text"
      },
      "source": [
        "<a href=\"https://colab.research.google.com/github/mredelis/CAP4630-AI-Spr23/blob/main/AI_HW2.ipynb\" target=\"_parent\"><img src=\"https://colab.research.google.com/assets/colab-badge.svg\" alt=\"Open In Colab\"/></a>"
      ]
    },
    {
      "cell_type": "markdown",
      "metadata": {
        "id": "Y0it7UwdNE8O"
      },
      "source": [
        "# Logistic Regression Homework\n",
        "\n",
        "This is the 2nd assignment for CAP 4630 and we will implement logistic regression and apply it to two\n",
        "different datasets. \\\n",
        "You will use **\"Tasks\"** and **\"Hints\"** to finish the work. **(Total 100 Points)** \\\n",
        "You are **not** allowed to use Machine Learning libaries such as Scikit-learn and Keras.\n",
        "\n",
        "**Task Overview:**\n",
        "- Logistic Regression "
      ]
    },
    {
      "cell_type": "markdown",
      "metadata": {
        "id": "BqYnLP07NE8Q"
      },
      "source": [
        "## 1 - Logistic Regression ##\n",
        "### 1.1 Packages\n",
        "\n",
        "Import useful packages for scientific computing and data processing. \n",
        "\n",
        "**Tasks:**\n",
        "1. Import numpy and rename it to np.\n",
        "2. Import pandas and rename it to pd.\n",
        "3. Import the pyplot function in the libraray of matplotlib and rename it to plt.\n",
        "\n",
        "References:\n",
        "- [numpy](www.numpy.org) is the fundamental package for scientific computing with Python.\n",
        "- [matplotlib](http://matplotlib.org) is a famous library to plot graphs in Python.\n",
        "\n",
        "**Attention:**\n",
        "1. After this renaming, you will use the new name to call functions. For example, **numpy** will become **np** in the following sections."
      ]
    },
    {
      "cell_type": "code",
      "execution_count": 23,
      "metadata": {
        "id": "nOR_la0INE8Q"
      },
      "outputs": [],
      "source": [
        "# Import and rename libraries here\n",
        "import numpy as np\n",
        "import pandas as pd\n",
        "import matplotlib.pyplot as plt"
      ]
    },
    {
      "cell_type": "markdown",
      "metadata": {
        "collapsed": true,
        "id": "92_IGfLwNE8R"
      },
      "source": [
        "### 1.2 - Data Preparation ##\n",
        "\n",
        "Prepare the data for regression task. **(20 Points)**\n",
        "\n",
        "**Tasks:**\n",
        "1. Load data for logistic regression.\n",
        "2. **Generate the SCATTER PLOT of the data**.\n",
        "\n",
        "**Hints:**\n",
        "1. The data file is \"data_logistic.csv\", which are exam scores for students.\n",
        "2. The data is organized by column: x1 (exam 1 score), x2 (exam 2 score), and label y (pass 1 or fail 0).\n",
        "3. Please use different colors for postive(label=1) and negative(label=0) data.\n",
        "4. An example of scatter plots is shown below.\n",
        "\n",
        "![](https://drive.google.com/uc?export=view&id=1CPv5s4W8SkUMa_sXCIz-NejSnFj-e1IH)"
      ]
    },
    {
      "cell_type": "code",
      "execution_count": 24,
      "metadata": {
        "id": "Q2vGsx_jNE8R",
        "colab": {
          "base_uri": "https://localhost:8080/",
          "height": 279
        },
        "outputId": "ee4af3c2-5b26-4c00-cc11-780b19920bf3"
      },
      "outputs": [
        {
          "output_type": "display_data",
          "data": {
            "text/plain": [
              "<Figure size 432x288 with 1 Axes>"
            ],
            "image/png": "[encoded data removed]"
          },
          "metadata": {
            "needs_background": "light"
          }
        }
      ],
      "source": [
        "# Preprocess input data and generate plots\n",
        "url = 'https://raw.githubusercontent.com/mredelis/CAP4630-AI-Spr23/main/data_logistic.csv'\n",
        "df = pd.read_csv(url)\n",
        "\n",
        "X = df.iloc[:,:-1].values    #until the last column\n",
        "y = df.iloc[:,-1].values     #last column\n",
        "\n",
        "# Return a list of T or F\n",
        "pos , neg = (y==1).reshape(len(y),1) , (y==0).reshape(len(y),1)\n",
        "\n",
        "# Plotting of Data\n",
        "plt.scatter(X[pos[:,0],0], X[pos[:,0],1], color=\"black\", marker=\"+\")\n",
        "plt.scatter(X[neg[:,0],0], X[neg[:,0],1], color=\"#C2C90A\")\n",
        "plt.xlabel(\"x1\")\n",
        "plt.ylabel(\"x2\")\n",
        "plt.legend([\"Positive\",\"Negative\"])\n",
        "plt.show()\n"
      ]
    },
    {
      "cell_type": "markdown",
      "metadata": {
        "id": "5Xtydn8XNE8R"
      },
      "source": [
        "### 1.3 - Sigmoid function ##\n",
        "\n",
        "\n",
        "Implement sigmoid function so it can be called by the rest of your program. **(20 Points)**\n",
        "\n",
        "**Tasks:**\n",
        "1. Implement the sigmoid function (**def sigmoid(z):**). \n",
        "2. Test the sigmoid function by function **plotting** with test data (X, Y) where Y = sigmoid(X). \n",
        "\n",
        "**Hints:**  \n",
        "1. Given the class material, sigmoid function is defined as:\n",
        "$g(z) = \\frac{1}{1+e^{-z}}$.\n",
        "2. You may consider X = np.linspace(-5, 5, 1000) to plot the curve.\n",
        "3. Plot Y against X.\n",
        "4. An example of plot for validation is shown below:\n",
        "\n",
        "![](https://drive.google.com/uc?export=view&id=18j5oHdw78uVm2WwHsdIb4hwhpXDxR37S)"
      ]
    },
    {
      "cell_type": "code",
      "execution_count": 25,
      "metadata": {
        "id": "1cT0D-z_NE8S"
      },
      "outputs": [],
      "source": [
        "# Implement sigmoid fuction here\n",
        "# Return the sigmoid of z\n",
        "def sigmoid(z):\n",
        "  return 1 / (1 + np.exp(-z))"
      ]
    },
    {
      "cell_type": "code",
      "execution_count": 26,
      "metadata": {
        "id": "OQK5fB8oNE8S",
        "colab": {
          "base_uri": "https://localhost:8080/",
          "height": 279
        },
        "outputId": "a872a403-beb9-4aa7-e387-0dc12295381d"
      },
      "outputs": [
        {
          "output_type": "display_data",
          "data": {
            "text/plain": [
              "<Figure size 432x288 with 1 Axes>"
            ],
            "image/png": "[encoded data removed]"
          },
          "metadata": {
            "needs_background": "light"
          }
        }
      ],
      "source": [
        "# Plot data here\n",
        "x = np.linspace(-5, 5, 1000)\n",
        "z = sigmoid(x)\n",
        "\n",
        "plt.plot(x, z)\n",
        "plt.xlabel(\"x\")\n",
        "plt.ylabel(\"g(x)\")\n",
        "plt.show()"
      ]
    },
    {
      "cell_type": "markdown",
      "metadata": {
        "id": "f1CROY0DNE8S"
      },
      "source": [
        "### 1.4 - Cost function and gradient ##\n",
        "\n",
        "Implement the cross entropy cost function and its gradient for logistic regression. **(30 Points)**\n",
        "\n",
        "**Tasks:**\n",
        "1. Implement the \"cal_cost\" to compute the cost.\n",
        "2. Implement the \"cal_grad\" to compute the gradients.\n",
        "3. Test \"cal_cost\" and \"cal_grad\" with initial values and print out the results.\n",
        "\n",
        "**Hint:**\n",
        "1. The cross entropy cost function (J(θ)) in logistic regression is shown below. It involves two terms, including ylog(h) and (1-y)log(1-h) where h is the function of x.\n",
        "\n",
        "![](https://drive.google.com/uc?export=view&id=1xLhlPFI4wekwuA7lFm7ebRVt0XBZk3e7)\n",
        "\n",
        "2. The gradient of the cost J(θ) is a vector of the same length as θ where the $j$th element (for $j = 0, 1, . . . , n)$ is defined below. You may do a hand calculation to justify the first order derivative with the term above.\n",
        "\n",
        "![](https://drive.google.com/uc?export=view&id=1xfA0A0xyRv2L5JZIdedAmEZxZ3DwpOCF)\n",
        "\n",
        "3. When you implement J(θ), please use eps = 1e-15 to prevent possible \"divide by 0 exception\" in second term. You may think about the reason.\n",
        "4. You may consider the below templates for two functions:\n",
        "\n",
        "\n",
        "\n",
        "    def cal_cost(theta, X, y):\n",
        "\n",
        "        htheta = ...\n",
        "        term1 = ...  /* matrix_multiplication(log(htheta), y)\n",
        "        term2 = ...  /* matrix_multiplication(log(1-htheta+eps), (1-y))\n",
        "        J = - 1 / m * (term1 + term2) \n",
        "        \n",
        "        return cost\n",
        "        \n",
        "    \n",
        "    def cal_grad(theta, X, y):\n",
        "        \n",
        "        htheta = ...\n",
        "        term1 = ... /* matrix_multiplication(transpose(X), (htheta - y))  //you may think about why transpose(x)\n",
        "        grad = 1 / m * term1 \n",
        "    \n",
        "        return grad\n",
        "5. It involves matrix multiplication and you may consider the function of np.matmul or np.dot.   \n",
        "        \n",
        "6. Initialize the intercept term (constant term) with **ones** and the theta with **zeros**. Test the functions with these initial values. \\\n",
        "    **Expected outputs:**\\\n",
        "    Cost at initial theta : 0.6931471805599445\\\n",
        "    Gradient at inital theta : [-0.1        -10.91242026 -11.73652937]\n"
      ]
    },
    {
      "cell_type": "code",
      "execution_count": 27,
      "metadata": {
        "id": "-fG5IQ6lNE8T",
        "colab": {
          "base_uri": "https://localhost:8080/"
        },
        "outputId": "4fcd965a-6fb1-4f20-dfeb-d165477c13e5"
      },
      "outputs": [
        {
          "output_type": "stream",
          "name": "stdout",
          "text": [
            "Cost at initial theta: 0.6931471805599456\n",
            "Gradient at inital theta: [ -0.1        -10.91242026 -11.73652937]\n"
          ]
        }
      ],
      "source": [
        "# Implement the cost function here\n",
        "def cal_cost(theta, X, y):\n",
        "  m = len(y)\n",
        "  # dot product returns a sigle number\n",
        "  htheta = sigmoid(np.dot(X, theta))\n",
        "  error = (-y * np.log(htheta)) - ((1-y) * np.log(1-htheta))\n",
        "  cost = 1/m * sum(error)\n",
        "  return cost[0]\n",
        "\n",
        "\n",
        "# Implement the gradient of the cost\n",
        "def cal_grad(theta, X, y):\n",
        "  m = len(y)\n",
        "  # dot product returns a sigle number\n",
        "  htheta = sigmoid(np.dot(X, theta))\n",
        "  grad = 1 / m * np.dot(X.transpose(), (htheta - y))\n",
        "  return grad\n",
        "\n",
        "\n",
        "# Testing the functions with initial values\n",
        "\n",
        "# Shape of matrix X is mxn = 80x2\n",
        "m, n = X.shape[0], X.shape[1]\n",
        "# Initialize the intercept term (constant term) with ones\n",
        "X = np.append(np.ones((m,1)), X, axis=1)\n",
        "# Convert y to a column vector\n",
        "y = y.reshape(m,1)\n",
        "\n",
        "ini_theta = np.zeros((n+1, 1))\n",
        "cost = cal_cost(ini_theta, X, y)\n",
        "grad = cal_grad(ini_theta, X, y)\n",
        "\n",
        "print(f\"Cost at initial theta: {cost}\")\n",
        "print(f\"Gradient at inital theta: {grad.reshape(-1)}\") \n"
      ]
    },
    {
      "cell_type": "markdown",
      "metadata": {
        "id": "LwskFRHXNE8T"
      },
      "source": [
        "## 1.5 Train parameters with Gradient Descent ##\n",
        "\n",
        "\n",
        "Train parameters using Gradient Descent. **(15 Points)**\n",
        "\n",
        "**Tasks:**\n",
        "1. Calculate best fit theta by Gradient Descent with learning rate of **0.001 (1e-3)** and epoch of **80K**. The initial theta from above blocks is used as initial values.\n",
        "2. Print out the best theta (the last one is considered as the best here) and its corresponding cost.\n",
        "3. **Plot the decision boundary**.\n",
        "\n",
        "**Hints:**\n",
        "1. You may take gradient descent in homework 1 as an template.\n",
        "2. Derive the boundary line from **sigmoid(theta[0]+ X1 * theta[1] + X2* theta[2])=0.5**. Think about why we get the line by setting **the activated probability to 0.5**. Also, try to calculate the final relationship between X1 and X2. When sigmoid(X) = 0.5, what is the value of x? Check the generated plot in 1.3.\n",
        "3. The validation of first 5 epochs (updated theta and cost): \\\n",
        "------Epoch 0------\\\n",
        "Theta: [0.0001     0.01091242 0.01173653]\\\n",
        "Cost: 0.6996118077359638\\\n",
        "------Epoch 1------\\\n",
        "Theta: [-0.0001129   0.00053949  0.00229352]\\\n",
        "Cost: 0.6649331468590681\\\n",
        "------Epoch 2------\\\n",
        "Theta: [-5.93604956e-05  8.33145873e-03  1.07754324e-02]\\\n",
        "Cost: 0.6679914364992459\\\n",
        "------Epoch 3------\\\n",
        "Theta: [-0.0002356   0.0004607   0.00370829]\\\n",
        "Cost: 0.6545873034874964\\\n",
        "------Epoch 4------\\\n",
        "Theta: [-0.00020363  0.00683227  0.01065138]\\\n",
        "Cost: 0.6563302142684528\n",
        "4. You may take the plots below as an exmample: \n",
        "\n",
        "![](https://drive.google.com/uc?export=view&id=1xLg9LrIF888gGXj3zRAG9iJLsyAmgPQg)\n",
        "\n",
        "5. It may take ~1 min to finish running."
      ]
    },
    {
      "cell_type": "code",
      "execution_count": 28,
      "metadata": {
        "id": "C2wYv0EsNE8T",
        "colab": {
          "base_uri": "https://localhost:8080/"
        },
        "outputId": "f02cd7ee-8876-4895-a459-e4a230aefda3"
      },
      "outputs": [
        {
          "output_type": "stream",
          "name": "stdout",
          "text": [
            "------Epoch 0------\n",
            "Theta: [0.0001     0.01091242 0.01173653]\n",
            "Cost: 0.6996118077359657\n",
            "------Epoch 1------\n",
            "Theta: [-0.0001129   0.00053949  0.00229352]\n",
            "Cost: 0.664933146859069\n",
            "------Epoch 2------\n",
            "Theta: [-5.93604956e-05  8.33145873e-03  1.07754324e-02]\n",
            "Cost: 0.6679914364992477\n",
            "------Epoch 3------\n",
            "Theta: [-0.0002356   0.0004607   0.00370829]\n",
            "Cost: 0.6545873034874976\n",
            "------Epoch 4------\n",
            "Theta: [-0.00020363  0.00683227  0.01065138]\n",
            "Cost: 0.6563302142684542\n",
            "\n",
            "The best(optimized) theta by gradient descent: [-3.88329777  0.02947987  0.03935448]\n",
            "Cost of best theta: 0.43838894881827906\n",
            "\n"
          ]
        }
      ],
      "source": [
        "# Gradient Descent Implementation Here\n",
        "\n",
        "# Takes in a np array X, y and theta and updates theta by taking num_iters (epochs) gradient steps with learning rate of L\n",
        "# Returns theta and the list of the cost of theta for each iteration\n",
        "def gradientDescent(X, y, theta, L, num_iters):\n",
        "\n",
        "  m = len(y)\n",
        "  J_history =[]\n",
        "   \n",
        "  for i in range(0, num_iters):\n",
        "    grad = cal_grad(theta, X, y)\n",
        "    theta = theta - (L * grad)\n",
        "    \n",
        "    cost = cal_cost(theta, X, y)\n",
        "    J_history.append(cost)\n",
        "\n",
        "    # For testing with professor's data\n",
        "    if (i < 5):\n",
        "      # theta is a 3x1 column vector, reshape to row vector for printing purposes\n",
        "      # print(np.shape(theta))\n",
        "      r, c = np.shape(theta)\n",
        "      row_theta = theta.reshape(-1)\n",
        "      print(f\"------Epoch {i}------\")\n",
        "      print(f\"Theta: {row_theta}\")\n",
        "      print(f\"Cost: {cost}\")\n",
        "   \n",
        "  return theta , J_history\n",
        " \n",
        "num_iterations = 80000\n",
        "L = 0.001\n",
        "theta , J_history = gradientDescent(X, y, ini_theta, L, num_iterations)\n",
        "\n",
        "print()\n",
        "print(f\"The best(optimized) theta by gradient descent: {theta.reshape(-1)}\")\n",
        "print(f\"Cost of best theta: {J_history[-1]}\\n\")\n",
        "\n"
      ]
    },
    {
      "cell_type": "code",
      "execution_count": 29,
      "metadata": {
        "id": "xU-eHiucNE8T",
        "colab": {
          "base_uri": "https://localhost:8080/",
          "height": 279
        },
        "outputId": "150d6596-9323-44f0-ce29-731538e56338"
      },
      "outputs": [
        {
          "output_type": "display_data",
          "data": {
            "text/plain": [
              "<Figure size 432x288 with 1 Axes>"
            ],
            "image/png": "[encoded data removed]"
          },
          "metadata": {
            "needs_background": "light"
          }
        }
      ],
      "source": [
        "# Draw Decision Boundary Here\n",
        "plt.scatter(X[pos[:,0],1], X[pos[:,0],2], color=\"black\", marker=\"+\")\n",
        "plt.scatter(X[neg[:,0],1], X[neg[:,0],2], color=\"#C2C90A\")\n",
        "\n",
        "# getting the x coordinates of the decision boundary\n",
        "x_value = np.array([np.min(X[:,1]), np.max(X[:,1])])\n",
        "\n",
        "# getting corresponding y coordinates of the decision boundary\n",
        "y_value = -(theta[0] + theta[1]*x_value) / theta[2]\n",
        "\n",
        "plt.plot(x_value, y_value)\n",
        "plt.xlabel(\"x1\")\n",
        "plt.ylabel(\"x2\")\n",
        "plt.legend([\"Positive\",\"Negative\"])\n",
        "plt.show()\n"
      ]
    },
    {
      "cell_type": "markdown",
      "metadata": {
        "id": "Gj8t1wNENE8T"
      },
      "source": [
        "\n",
        "### 1.6 Evaluating Logistic Regression\n",
        "\n",
        "Evaluate the model with given data. **(15 Points)**\n",
        "\n",
        "**Tasks:**\n",
        "1. Calculate the training accuracy and **PRINT IT OUT**.\n",
        "2. Evaluate the predicted probability of the learnt model with x1 = 56 and x2 = 32 and **PRINT IT OUT**.\n",
        "\n",
        "\n",
        "**Hints:**  \n",
        "1. Positive(prediction>0.5) and negative(prediction<=0.5). \n",
        "2. The prediction results are based on acceptance probability. Given the two exam scores, we expected the model yields either high probability of \"fail\" or low probability of \"pass\".\n",
        "3. Training accuracy should be around **85%**."
      ]
    },
    {
      "cell_type": "code",
      "execution_count": 30,
      "metadata": {
        "id": "pcsqbzXdNE8U",
        "colab": {
          "base_uri": "https://localhost:8080/"
        },
        "outputId": "74d25697-0270-4513-ae05-38ef190967eb"
      },
      "outputs": [
        {
          "output_type": "stream",
          "name": "stdout",
          "text": [
            "Training accuracy: 85.0%\n",
            "A student with scores 56 and 32, the model predicted a pass probability of 0.2742666161817614\n"
          ]
        }
      ],
      "source": [
        "# Evaluate the model\n",
        "\n",
        "# Takes in a numpy array of theta and X\n",
        "# Returns a boolean array with True (probability of admission is > 0) and False otherwise\n",
        "def classifierPredict(theta, X):\n",
        "    predictions = X.dot(theta)  \n",
        "    # print(predictions) \n",
        "    return predictions>0\n",
        "\n",
        "# Accuracy is the number of correct predictions in relation to the total of number of predictions\n",
        "# The sum(p==y) adds up all instances where it correctly predicts the y values.\n",
        "p = classifierPredict(theta, X)\n",
        "print(f\"Training accuracy: {sum(p==y)[0]/len(y)*100}%\")\n",
        "\n",
        "x_test = np.array([56, 32])\n",
        "x_test = np.append(np.ones(1), x_test)\n",
        "prob = sigmoid(x_test.dot(theta))\n",
        "print(\"A student with scores 56 and 32, the model predicted a pass probability of\", prob[0])\n"
      ]
    }
  ],
  "metadata": {
    "coursera": {
      "course_slug": "neural-networks-deep-learning",
      "graded_item_id": "XaIWT",
      "launcher_item_id": "zAgPl"
    },
    "kernelspec": {
      "display_name": "Python 3",
      "language": "python",
      "name": "python3"
    },
    "language_info": {
      "codemirror_mode": {
        "name": "ipython",
        "version": 3
      },
      "file_extension": ".py",
      "mimetype": "text/x-python",
      "name": "python",
      "nbconvert_exporter": "python",
      "pygments_lexer": "ipython3",
      "version": "3.8.5"
    },
    "colab": {
      "provenance": [],
      "include_colab_link": true
    }
  },
  "nbformat": 4,
  "nbformat_minor": 0
}